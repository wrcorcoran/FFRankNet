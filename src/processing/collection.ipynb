{
 "cells": [
  {
   "cell_type": "code",
   "execution_count": 58,
   "metadata": {},
   "outputs": [],
   "source": [
    "import pandas as pd\n",
    "import numpy as np"
   ]
  },
  {
   "cell_type": "code",
   "execution_count": 59,
   "metadata": {},
   "outputs": [],
   "source": [
    "def kickerScore(player) -> float:\n",
    "    score = 0\n",
    "\n",
    "    score += player[\"FgMade_50\"] * 5\n",
    "    score += player[\"FgMade_40-49\"] * 4\n",
    "    score += player[\"FgMade_30-39\"] * 3\n",
    "    score += player[\"FgMade_20-29\"] * 3\n",
    "    score += player[\"FgMade_0-19\"] * 3\n",
    "    score += player[\"PatMade\"] * 1\n",
    "    score += player[\"FgMiss_0-19\"] * -1\n",
    "    score += player[\"FgMiss_20-29\"] * -1\n",
    "    score += player[\"FgMiss_30-39\"] * -1\n",
    "\n",
    "    return round(score, 2)\n",
    "\n",
    "def skillScore(player) -> float:\n",
    "    score = 0\n",
    "    score += player[\"PassingYDS\"] * 0.04\n",
    "    score += player[\"PassingTD\"] * 4\n",
    "    score += player[\"PassingInt\"] * -2 \n",
    "    score += player[\"RushingYDS\"] * 0.1\n",
    "    score += player[\"RushingTD\"] * 6\n",
    "    score += player[\"ReceivingRec\"] * 1\n",
    "    score += player[\"ReceivingYDS\"] * 0.1\n",
    "    score += player[\"ReceivingTD\"] * 6\n",
    "    score += player[\"RetTD\"] * 6\n",
    "    score += player[\"FumTD\"] * 6\n",
    "    score += player[\"2PT\"] * 2\n",
    "    score += player[\"Fum\"] * -2\n",
    "\n",
    "    return round(score, 2)\n",
    "\n",
    "def cleanSkill(df) -> pd.DataFrame:\n",
    "    df = df.fillna(0)\n",
    "    return df"
   ]
  },
  {
   "cell_type": "markdown",
   "metadata": {},
   "source": [
    "# QBs"
   ]
  },
  {
   "cell_type": "code",
   "execution_count": 60,
   "metadata": {},
   "outputs": [],
   "source": [
    "skill_columns = ['PlayerId', 'PassingYDS', 'PassingTD',\n",
    "       'PassingInt', 'RushingYDS', 'RushingTD', 'ReceivingRec', 'ReceivingYDS',\n",
    "       'ReceivingTD', 'RetTD', 'FumTD', '2PT', 'Fum', 'TouchCarries', 'TouchReceptions', 'Touches', 'TargetsReceptions',\n",
    "       'Targets', 'ReceptionPercentage', 'RzTarget', 'RzTouch', 'RzG2G']\n",
    "name_and_skill__columns = ['PlayerName', 'PlayerId', 'PassingYDS', 'PassingTD',\n",
    "       'PassingInt', 'RushingYDS', 'RushingTD', 'ReceivingRec', 'ReceivingYDS',\n",
    "       'ReceivingTD', 'RetTD', 'FumTD', '2PT', 'Fum', 'TouchCarries', 'TouchReceptions', 'Touches', 'TargetsReceptions',\n",
    "       'Targets', 'ReceptionPercentage', 'RzTarget', 'RzTouch', 'RzG2G']"
   ]
  },
  {
   "cell_type": "code",
   "execution_count": 61,
   "metadata": {},
   "outputs": [
    {
     "name": "stderr",
     "output_type": "stream",
     "text": [
      "/var/folders/0z/fbvp30yd2rqglt77ftznhyp80000gn/T/ipykernel_9855/4286005723.py:23: FutureWarning: The behavior of DataFrame concatenation with empty or all-NA entries is deprecated. In a future version, this will no longer exclude empty or all-NA columns when determining the result dtypes. To retain the old behavior, exclude the relevant entries before the concat operation.\n",
      "  large_df = pd.concat([large_df, main_df], axis=0, ignore_index=True)\n"
     ]
    }
   ],
   "source": [
    "qb_2015 = pd.read_csv('https://raw.githubusercontent.com/hvpkod/NFL-Data/main/NFL-data-Players/2015/QB_season.csv').loc[:, skill_columns]\n",
    "cleanSkill(qb_2015)\n",
    "\n",
    "# map year - 1 -> year\n",
    "# x[year - 1] and y[year] are partners\n",
    "\n",
    "large_df = pd.DataFrame(columns=skill_columns)\n",
    "\n",
    "for i in range(2015, 2023):\n",
    "    main_df = pd.read_csv(f'https://raw.githubusercontent.com/hvpkod/NFL-Data/main/NFL-data-Players/{i}/QB_season.csv').loc[:, skill_columns]\n",
    "    main_df = cleanSkill(main_df)\n",
    "\n",
    "    score_df = pd.read_csv(f'https://raw.githubusercontent.com/hvpkod/NFL-Data/main/NFL-data-Players/{i + 1}/QB_season.csv').loc[:, skill_columns]\n",
    "    score_df = cleanSkill(score_df)\n",
    "\n",
    "    score_pairs = []\n",
    "    for _, row in score_df.iterrows():\n",
    "        score = skillScore(row)\n",
    "\n",
    "        score_pairs.append([row[\"PlayerId\"], score])\n",
    "    score_df = pd.DataFrame(score_pairs, columns=[\"PlayerId\", \"Score\"])\n",
    "    main_df = pd.merge(main_df, score_df[['PlayerId', 'Score']], on='PlayerId', how='inner')\n",
    "    large_df = pd.concat([large_df, main_df], axis=0, ignore_index=True)\n",
    "\n",
    "large_df = large_df[\n",
    "    (large_df['Score'] > 50) &\n",
    "    (large_df['PassingYDS'] > 0.0)\n",
    "]\n",
    "X_df = large_df.drop(columns=[\"PlayerId\", \"Score\"])\n",
    "y_df = large_df[\"Score\"]\n",
    "X = X_df.to_numpy()\n",
    "y = y_df.to_numpy()\n",
    "\n",
    "np.save('../../assets/qb/X.npy', X)\n",
    "np.save('../../assets/qb/y.npy', y)"
   ]
  },
  {
   "cell_type": "code",
   "execution_count": 62,
   "metadata": {},
   "outputs": [],
   "source": [
    "# get future (testX)\n",
    "main_df = pd.read_csv('https://raw.githubusercontent.com/hvpkod/NFL-Data/main/NFL-data-Players/2023/QB_season.csv').loc[:, name_and_skill__columns]\n",
    "main_df = cleanSkill(main_df)\n",
    "main_df = main_df[\n",
    "    (main_df['PassingYDS'] > 0.0)\n",
    "]\n",
    "X_df = main_df.reset_index().drop(columns=[\"index\"])\n",
    "map_df = X_df[['PlayerName', 'PlayerId']]\n",
    "X_df = X_df.drop(columns=[\"PlayerName\", \"PlayerId\"])\n",
    "X_df\n",
    "\n",
    "np.save('../../assets/qb/finalX.npy', X_df.to_numpy())\n",
    "map_df.to_csv('../../assets/qb/map.csv')"
   ]
  },
  {
   "cell_type": "markdown",
   "metadata": {},
   "source": [
    "# RB"
   ]
  },
  {
   "cell_type": "code",
   "execution_count": 63,
   "metadata": {},
   "outputs": [
    {
     "name": "stderr",
     "output_type": "stream",
     "text": [
      "/var/folders/0z/fbvp30yd2rqglt77ftznhyp80000gn/T/ipykernel_9855/3006085032.py:20: FutureWarning: The behavior of DataFrame concatenation with empty or all-NA entries is deprecated. In a future version, this will no longer exclude empty or all-NA columns when determining the result dtypes. To retain the old behavior, exclude the relevant entries before the concat operation.\n",
      "  large_df = pd.concat([large_df, main_df], axis=0, ignore_index=True)\n"
     ]
    }
   ],
   "source": [
    "# map year - 1 -> year\n",
    "# x[year - 1] and y[year] are partners\n",
    "\n",
    "large_df = pd.DataFrame(columns=skill_columns)\n",
    "\n",
    "for i in range(2015, 2023):\n",
    "    main_df = pd.read_csv(f'https://raw.githubusercontent.com/hvpkod/NFL-Data/main/NFL-data-Players/{i}/RB_season.csv').loc[:, skill_columns]\n",
    "    main_df = cleanSkill(main_df)\n",
    "\n",
    "    score_df = pd.read_csv(f'https://raw.githubusercontent.com/hvpkod/NFL-Data/main/NFL-data-Players/{i + 1}/RB_season.csv').loc[:, skill_columns]\n",
    "    score_df = cleanSkill(score_df)\n",
    "\n",
    "    score_pairs = []\n",
    "    for _, row in score_df.iterrows():\n",
    "        score = skillScore(row)\n",
    "\n",
    "        score_pairs.append([row[\"PlayerId\"], score])\n",
    "    score_df = pd.DataFrame(score_pairs, columns=[\"PlayerId\", \"Score\"])\n",
    "    main_df = pd.merge(main_df, score_df[['PlayerId', 'Score']], on='PlayerId', how='inner')\n",
    "    large_df = pd.concat([large_df, main_df], axis=0, ignore_index=True)\n",
    "\n",
    "large_df = large_df[\n",
    "    (large_df['Score'] > 25) &\n",
    "    (large_df['TouchCarries'] > 0) &\n",
    "    (large_df['Touches'] > 0) &\n",
    "    (large_df['RushingYDS'] > 0.0)\n",
    "]\n",
    "X_df = large_df.drop(columns=[\"PlayerId\", \"Score\"])\n",
    "y_df = large_df[\"Score\"]\n",
    "X = X_df.to_numpy()\n",
    "y = y_df.to_numpy()\n",
    "\n",
    "np.save('../../assets/rb/X.npy', X)\n",
    "np.save('../../assets/rb/y.npy', y)"
   ]
  },
  {
   "cell_type": "code",
   "execution_count": 64,
   "metadata": {},
   "outputs": [],
   "source": [
    "# get future (testX)\n",
    "main_df = pd.read_csv('https://raw.githubusercontent.com/hvpkod/NFL-Data/main/NFL-data-Players/2023/RB_season.csv').loc[:, name_and_skill__columns]\n",
    "large_df = cleanSkill(main_df)\n",
    "main_df = large_df[\n",
    "    (large_df['TouchCarries'] > 0) &\n",
    "    (large_df['Touches'] > 0) &\n",
    "    (large_df['RushingYDS'] > 0.0)\n",
    "]\n",
    "X_df = main_df.reset_index().drop(columns=[\"index\"])\n",
    "map_df = X_df[['PlayerName', 'PlayerId']]\n",
    "X_df = X_df.drop(columns=[\"PlayerName\", \"PlayerId\"])\n",
    "X_df\n",
    "\n",
    "np.save('../../assets/rb/finalX.npy', X_df.to_numpy())\n",
    "map_df.to_csv('../../assets/rb/map.csv')"
   ]
  },
  {
   "cell_type": "markdown",
   "metadata": {},
   "source": [
    "# WR"
   ]
  },
  {
   "cell_type": "code",
   "execution_count": 65,
   "metadata": {},
   "outputs": [
    {
     "name": "stderr",
     "output_type": "stream",
     "text": [
      "/var/folders/0z/fbvp30yd2rqglt77ftznhyp80000gn/T/ipykernel_9855/2471078310.py:20: FutureWarning: The behavior of DataFrame concatenation with empty or all-NA entries is deprecated. In a future version, this will no longer exclude empty or all-NA columns when determining the result dtypes. To retain the old behavior, exclude the relevant entries before the concat operation.\n",
      "  large_df = pd.concat([large_df, main_df], axis=0, ignore_index=True)\n"
     ]
    }
   ],
   "source": [
    "# map year - 1 -> year\n",
    "# x[year - 1] and y[year] are partners\n",
    "\n",
    "large_df = pd.DataFrame(columns=skill_columns)\n",
    "\n",
    "for i in range(2015, 2023):\n",
    "    main_df = pd.read_csv(f'https://raw.githubusercontent.com/hvpkod/NFL-Data/main/NFL-data-Players/{i}/WR_season.csv').loc[:, skill_columns]\n",
    "    main_df = cleanSkill(main_df)\n",
    "\n",
    "    score_df = pd.read_csv(f'https://raw.githubusercontent.com/hvpkod/NFL-Data/main/NFL-data-Players/{i + 1}/WR_season.csv').loc[:, skill_columns]\n",
    "    score_df = cleanSkill(score_df)\n",
    "\n",
    "    score_pairs = []\n",
    "    for _, row in score_df.iterrows():\n",
    "        score = skillScore(row)\n",
    "\n",
    "        score_pairs.append([row[\"PlayerId\"], score])\n",
    "    score_df = pd.DataFrame(score_pairs, columns=[\"PlayerId\", \"Score\"])\n",
    "    main_df = pd.merge(main_df, score_df[['PlayerId', 'Score']], on='PlayerId', how='inner')\n",
    "    large_df = pd.concat([large_df, main_df], axis=0, ignore_index=True)\n",
    "\n",
    "large_df = large_df[\n",
    "    (large_df['Score'] > 25) &\n",
    "    (large_df['Touches'] > 0)\n",
    "]\n",
    "X_df = large_df.drop(columns=[\"PlayerId\", \"Score\"])\n",
    "y_df = large_df[\"Score\"]\n",
    "X = X_df.to_numpy()\n",
    "y = y_df.to_numpy()\n",
    "\n",
    "np.save('../../assets/wr/X.npy', X)\n",
    "np.save('../../assets/wr/y.npy', y)"
   ]
  },
  {
   "cell_type": "code",
   "execution_count": 66,
   "metadata": {},
   "outputs": [],
   "source": [
    "# get future (testX)\n",
    "main_df = pd.read_csv('https://raw.githubusercontent.com/hvpkod/NFL-Data/main/NFL-data-Players/2023/WR_season.csv').loc[:, name_and_skill__columns]\n",
    "large_df = cleanSkill(main_df)\n",
    "main_df = large_df[\n",
    "    (large_df['Touches'] > 0)\n",
    "]\n",
    "X_df = main_df.reset_index().drop(columns=[\"index\"])\n",
    "map_df = X_df[['PlayerName', 'PlayerId']]\n",
    "X_df = X_df.drop(columns=[\"PlayerName\", \"PlayerId\"])\n",
    "X_df\n",
    "\n",
    "np.save('../../assets/wr/finalX.npy', X_df.to_numpy())\n",
    "map_df.to_csv('../../assets/wr/map.csv')"
   ]
  },
  {
   "cell_type": "markdown",
   "metadata": {},
   "source": [
    "# TE"
   ]
  },
  {
   "cell_type": "code",
   "execution_count": 67,
   "metadata": {},
   "outputs": [
    {
     "name": "stderr",
     "output_type": "stream",
     "text": [
      "/var/folders/0z/fbvp30yd2rqglt77ftznhyp80000gn/T/ipykernel_9855/2537940991.py:20: FutureWarning: The behavior of DataFrame concatenation with empty or all-NA entries is deprecated. In a future version, this will no longer exclude empty or all-NA columns when determining the result dtypes. To retain the old behavior, exclude the relevant entries before the concat operation.\n",
      "  large_df = pd.concat([large_df, main_df], axis=0, ignore_index=True)\n"
     ]
    }
   ],
   "source": [
    "# map year - 1 -> year\n",
    "# x[year - 1] and y[year] are partners\n",
    "\n",
    "large_df = pd.DataFrame(columns=skill_columns)\n",
    "\n",
    "for i in range(2015, 2023):\n",
    "    main_df = pd.read_csv(f'https://raw.githubusercontent.com/hvpkod/NFL-Data/main/NFL-data-Players/{i}/TE_season.csv').loc[:, skill_columns]\n",
    "    main_df = cleanSkill(main_df)\n",
    "\n",
    "    score_df = pd.read_csv(f'https://raw.githubusercontent.com/hvpkod/NFL-Data/main/NFL-data-Players/{i + 1}/TE_season.csv').loc[:, skill_columns]\n",
    "    score_df = cleanSkill(score_df)\n",
    "\n",
    "    score_pairs = []\n",
    "    for _, row in score_df.iterrows():\n",
    "        score = skillScore(row)\n",
    "\n",
    "        score_pairs.append([row[\"PlayerId\"], score])\n",
    "    score_df = pd.DataFrame(score_pairs, columns=[\"PlayerId\", \"Score\"])\n",
    "    main_df = pd.merge(main_df, score_df[['PlayerId', 'Score']], on='PlayerId', how='inner')\n",
    "    large_df = pd.concat([large_df, main_df], axis=0, ignore_index=True)\n",
    "\n",
    "large_df = large_df[\n",
    "    (large_df['Score'] > 25) &\n",
    "    (large_df['ReceivingYDS'] > 0)\n",
    "]\n",
    "X_df = large_df.drop(columns=[\"PlayerId\", \"Score\"])\n",
    "y_df = large_df[\"Score\"]\n",
    "X = X_df.to_numpy()\n",
    "y = y_df.to_numpy()\n",
    "\n",
    "np.save('../../assets/te/X.npy', X)\n",
    "np.save('../../assets/te/y.npy', y)"
   ]
  },
  {
   "cell_type": "code",
   "execution_count": 68,
   "metadata": {},
   "outputs": [],
   "source": [
    "# get future (testX)\n",
    "main_df = pd.read_csv('https://raw.githubusercontent.com/hvpkod/NFL-Data/main/NFL-data-Players/2023/TE_season.csv').loc[:, name_and_skill__columns]\n",
    "large_df = cleanSkill(main_df)\n",
    "main_df = large_df[\n",
    "    (large_df['ReceivingYDS'] > 0)\n",
    "]\n",
    "X_df = main_df.reset_index().drop(columns=[\"index\"])\n",
    "map_df = X_df[['PlayerName', 'PlayerId']]\n",
    "X_df = X_df.drop(columns=[\"PlayerName\", \"PlayerId\"])\n",
    "X_df\n",
    "\n",
    "np.save('../../assets/te/finalX.npy', X_df.to_numpy())\n",
    "map_df.to_csv('../../assets/te/map.csv')"
   ]
  },
  {
   "cell_type": "markdown",
   "metadata": {},
   "source": [
    "# K"
   ]
  },
  {
   "cell_type": "code",
   "execution_count": 69,
   "metadata": {},
   "outputs": [],
   "source": [
    "k_columns = ['PlayerId', 'PatMade', 'PatMissed',\n",
    "       'FgMade_0-19', 'FgMade_20-29', 'FgMade_30-39', 'FgMade_40-49',\n",
    "       'FgMade_50', 'FgMiss_0-19', 'FgMiss_20-29', 'FgMiss_30-39']\n",
    "name_and_k_columns = ['PlayerName', 'PlayerId', 'PatMade', 'PatMissed',\n",
    "       'FgMade_0-19', 'FgMade_20-29', 'FgMade_30-39', 'FgMade_40-49',\n",
    "       'FgMade_50', 'FgMiss_0-19', 'FgMiss_20-29', 'FgMiss_30-39']"
   ]
  },
  {
   "cell_type": "code",
   "execution_count": 70,
   "metadata": {},
   "outputs": [
    {
     "name": "stderr",
     "output_type": "stream",
     "text": [
      "/var/folders/0z/fbvp30yd2rqglt77ftznhyp80000gn/T/ipykernel_9855/1610474933.py:20: FutureWarning: The behavior of DataFrame concatenation with empty or all-NA entries is deprecated. In a future version, this will no longer exclude empty or all-NA columns when determining the result dtypes. To retain the old behavior, exclude the relevant entries before the concat operation.\n",
      "  large_df = pd.concat([large_df, main_df], axis=0, ignore_index=True)\n"
     ]
    }
   ],
   "source": [
    "# map year - 1 -> year\n",
    "# x[year - 1] and y[year] are partners\n",
    "\n",
    "large_df = pd.DataFrame(columns=k_columns)\n",
    "\n",
    "for i in range(2015, 2023):\n",
    "    main_df = pd.read_csv(f'https://raw.githubusercontent.com/hvpkod/NFL-Data/main/NFL-data-Players/{i}/K_season.csv').loc[:, k_columns]\n",
    "    main_df = cleanSkill(main_df)\n",
    "\n",
    "    score_df = pd.read_csv(f'https://raw.githubusercontent.com/hvpkod/NFL-Data/main/NFL-data-Players/{i + 1}/K_season.csv').loc[:, k_columns]\n",
    "    score_df = cleanSkill(score_df)\n",
    "\n",
    "    score_pairs = []\n",
    "    for _, row in score_df.iterrows():\n",
    "        score = kickerScore(row)\n",
    "\n",
    "        score_pairs.append([row[\"PlayerId\"], score])\n",
    "    score_df = pd.DataFrame(score_pairs, columns=[\"PlayerId\", \"Score\"])\n",
    "    main_df = pd.merge(main_df, score_df[['PlayerId', 'Score']], on='PlayerId', how='inner')\n",
    "    large_df = pd.concat([large_df, main_df], axis=0, ignore_index=True)\n",
    "\n",
    "large_df = large_df[\n",
    "    (large_df['Score'] > 10) &\n",
    "    (large_df['PatMade'] > 1)\n",
    "]\n",
    "X_df = large_df.drop(columns=[\"PlayerId\", \"Score\"])\n",
    "y_df = large_df[\"Score\"]\n",
    "X = X_df.to_numpy()\n",
    "y = y_df.to_numpy()\n",
    "\n",
    "np.save('../../assets/k/X.npy', X)\n",
    "np.save('../../assets/k/y.npy', y)"
   ]
  },
  {
   "cell_type": "code",
   "execution_count": 71,
   "metadata": {},
   "outputs": [],
   "source": [
    "# get future (testX)\n",
    "main_df = pd.read_csv('https://raw.githubusercontent.com/hvpkod/NFL-Data/main/NFL-data-Players/2023/K_season.csv').loc[:, name_and_k_columns]\n",
    "large_df = cleanSkill(main_df)\n",
    "main_df = large_df[\n",
    "    (large_df['PatMade'] > 0)\n",
    "]\n",
    "X_df = main_df.reset_index().drop(columns=[\"index\"])\n",
    "map_df = X_df[['PlayerName', 'PlayerId']]\n",
    "X_df = X_df.drop(columns=[\"PlayerName\", \"PlayerId\"])\n",
    "X_df\n",
    "\n",
    "np.save('../../assets/k/finalX.npy', X_df.to_numpy())\n",
    "map_df.to_csv('../../assets/k/map.csv')"
   ]
  }
 ],
 "metadata": {
  "kernelspec": {
   "display_name": "football",
   "language": "python",
   "name": "python3"
  },
  "language_info": {
   "codemirror_mode": {
    "name": "ipython",
    "version": 3
   },
   "file_extension": ".py",
   "mimetype": "text/x-python",
   "name": "python",
   "nbconvert_exporter": "python",
   "pygments_lexer": "ipython3",
   "version": "3.12.4"
  }
 },
 "nbformat": 4,
 "nbformat_minor": 2
}
